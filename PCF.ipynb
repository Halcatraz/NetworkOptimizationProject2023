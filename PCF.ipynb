{
 "cells": [
  {
   "attachments": {},
   "cell_type": "markdown",
   "metadata": {},
   "source": [
    "With this model, we look for the position of hospitals and clinics to minimize the distance between the patient, hospitals and clinics. \n",
    "This can help us, for example, to decise where to build an hospital in the future."
   ]
  },
  {
   "attachments": {},
   "cell_type": "markdown",
   "metadata": {},
   "source": [
    "* Sets\\\n",
    "$\\text {I: The set of demand points i, } \\forall i = (1,2,...,n)$\n",
    "$\\text {K: The set of candidate locations for a level-1 PCF (e.g., clinics) k, } \\forall i = (1,2,...,n)$\n",
    "$\\text {J: The set of candidate locations for a level-2 PCF (e.g., hospitals) j, } \\forall i = (1,2,...,n)$\n",
    "* Parameters\\\n",
    "$d_{ik} \\text {: The travel distance (or time) between demand point i ∈ I and a level-1 PCF in candidate location k ∈ K .} \\forall i \\in N, i \\not =\\{s\\}$\\\n",
    "$d_{ik} \\text {: The travel distance (or time) between a level-1 PCF in candidate location k ∈ K and a level-2 PCF in candidate location j ∈ J .} \\forall i \\in N, i \\not =\\{s\\}$\\\n",
    "$w_i \\text {: The population size at demand poin i ∈ I }$\\\n",
    "$C_{k}^1 \\text {: The capacity of the clinic k}$\\\n",
    "$C_{j}^2 \\text {: The capacity of the hospital j}$\\\n",
    "$p \\text {: The number of clinics to be established}$\\\n",
    "$q \\text {: The number of hospitals to be established}$\\\n",
    "$\\theta_k \\text {: The proportion of patients in the clinic k who have to go to an hospital}$\\\n",
    "\n",
    "* Variables\\\n",
    "$\n",
    "x_{k}^1=\n",
    "\\begin{cases}\n",
    "1 \\text{ if clinic } k \\text{ is activated},\\\\\n",
    "0 \\text{ otherwise}\n",
    "\\end{cases}\n",
    "$\\\n",
    "$\n",
    "x_{j}^2=\n",
    "\\begin{cases}\n",
    "1 \\text{ if hospital } j \\text{ is activated},\\\\\n",
    "0 \\text{ otherwise}\n",
    "\\end{cases}\n",
    "$\\\n",
    "$u_{ik} \\text {: The flow of patients between demand point i and the clinic k (e.g. flow of arc going from node i to node k)} \\forall i,j  \\in N$\\\n",
    "$v_{kj} \\text {: The flow of patients from the clinic k who have to ho to the hospital j (e.g. flow of arc going from node k to node j)} \\forall i,j  \\in N$\n",
    "\n",
    "* Objective function\n",
    "$$\n",
    "% peut etre mettre des indices genre de 1 à n\n",
    "\\min  \\sum_{i \\in I}^n \\sum_{k \\in K} d_{ik}* u_{ik} + \\sum_{k \\in K}^n \\sum_{j \\in J} d_{kj}* v_{kj}\n",
    "$$\n",
    "\n",
    "* Constraints\\\n",
    "* type de contraintes ?\n",
    "$$\n",
    "\\sum_{k \\in K} u_{ik} = w_i \\text{  } \\forall i \\in I\n",
    "$$\n",
    "* Flow balance constraints.\n",
    "$$\n",
    "\\sum_{j \\in J} v_{kj} = \\theta_k  \\sum_{i \\in I} u_{ik} \\text{  } \\forall k \\in K\n",
    "$$\n",
    "* Activation constraints\n",
    "$$\n",
    "0 \\leq x_{ij} \\leq u_{ij}*y_{ij} \\forall i, j \\in N\n",
    "$$"
   ]
  },
  {
   "cell_type": "code",
   "execution_count": 810,
   "metadata": {},
   "outputs": [],
   "source": [
    "import networkx as nx\n",
    "import random\n",
    "import numpy as np\n",
    "import matplotlib.pyplot as plt\n",
    "import gurobipy as gb\n",
    "\n",
    "%matplotlib inline"
   ]
  },
  {
   "cell_type": "code",
   "execution_count": 811,
   "metadata": {},
   "outputs": [],
   "source": [
    "#Drawing function\n",
    "\n",
    "def DrawInitG(G, figure_size, withedges=False):\n",
    "    \n",
    "    plt.figure(figsize=figure_size)\n",
    "    \n",
    "    pos = {i:(G.nodes[i]['x'], G.nodes[i]['y']) for i in G.nodes()}\n",
    "    color_list =  [(G.nodes[i]['color']) for i in G.nodes()]\n",
    "    location_type = [(G.nodes[i]['location_type']) for i in G.nodes()]\n",
    "    \n",
    "    \n",
    "    nx.draw_networkx_nodes(G, pos=pos, linewidths=0.6,\\\n",
    "                           node_shape='o', node_size=500,\\\n",
    "                           node_color=color_list, edgecolors='black')\n",
    "    \n",
    "    nx.draw_networkx_labels(G, pos=pos, font_color='k')\n",
    "    \n",
    "    if withedges:\n",
    "        nx.draw_networkx_edges(G,pos=pos, alpha=1.0)\n",
    "        labels = {(i,j):G.get_edge_data(i,j,'dist').get('dist') for i,j in G.edges()}\n",
    "        nx.draw_networkx_edge_labels(G, pos=pos, edge_labels=labels)\n",
    "    \n",
    "    plt.axis('off')\n",
    "    plt.show()\n",
    "    \n",
    "def DrawSol(G, figure_size, x):\n",
    "    \n",
    "    plt.figure(figsize=figure_size)\n",
    "    \n",
    "    pos = {i:(G.nodes[i]['x'], G.nodes[i]['y']) for i in G.nodes()}\n",
    "    color_list =  [(G.nodes[i]['color']) for i in G.nodes()]\n",
    "    location_type = [(G.nodes[i]['location_type']) for i in G.nodes()]\n",
    "\n",
    "    # fontsize=8,\n",
    "    nx.draw_networkx_nodes(G, pos=pos, linewidths=0.6, \\\n",
    "                           node_shape='o', node_size=500,\\\n",
    "                           node_color=color_list, edgecolors='black')\n",
    "    \n",
    "    nx.draw_networkx_labels(G, pos=pos, font_color='k')\n",
    "    \n",
    "    \n",
    "    nx.draw_networkx_edges(G,pos=pos, edgelist = x, alpha=1.0)\n",
    "    \n",
    "        \n",
    "    \n",
    "    plt.axis('off')\n",
    "    plt.show()"
   ]
  },
  {
   "cell_type": "code",
   "execution_count": 812,
   "metadata": {},
   "outputs": [],
   "source": [
    "# Setting the network values (1)\n",
    "\n",
    "number_of_clinic = 10\n",
    "number_of_hospitals = 10\n",
    "number_of_demand_points = 5\n",
    "\n",
    "K = range(0, number_of_clinic)\n",
    "J = range(number_of_clinic, number_of_clinic + number_of_hospitals)\n",
    "I = range(number_of_clinic + number_of_hospitals, number_of_clinic + number_of_hospitals + number_of_demand_points)\n",
    "\n",
    "area_size = 10\n",
    "\n",
    "# Number of candidate clinic's to be established\n",
    "p = 5\n",
    "# Number of candidate hospital's to be established\n",
    "q = 5\n",
    "\n",
    "# Portion of patient in a clinic k referred to an hospital \n",
    "theta = {k:round(random.random(),2) for k in K}"
   ]
  },
  {
   "cell_type": "code",
   "execution_count": 813,
   "metadata": {},
   "outputs": [
    {
     "data": {
      "text/plain": [
       "{0: 0.22,\n",
       " 1: 0.85,\n",
       " 2: 0.0,\n",
       " 3: 0.92,\n",
       " 4: 0.26,\n",
       " 5: 0.07,\n",
       " 6: 0.29,\n",
       " 7: 0.83,\n",
       " 8: 0.58,\n",
       " 9: 0.03}"
      ]
     },
     "execution_count": 813,
     "metadata": {},
     "output_type": "execute_result"
    }
   ],
   "source": [
    "theta"
   ]
  },
  {
   "cell_type": "code",
   "execution_count": 814,
   "metadata": {},
   "outputs": [],
   "source": [
    "#Creating a random network and removing all edges\n",
    "\n",
    "G = nx.complete_graph(number_of_clinic + number_of_hospitals + number_of_demand_points)\n",
    "G = nx.create_empty_copy(G)\n",
    "pos = nx.random_layout(G)"
   ]
  },
  {
   "cell_type": "code",
   "execution_count": 815,
   "metadata": {},
   "outputs": [],
   "source": [
    "#Setting the network values (2)\n",
    "# on peut aussi dire que tous les hopitaux et cliniques ont la même capacité d'accueil\n",
    "# C1 = {k:random.randint(20,100) for k in range(len(G)) if k >= 0 and k < number_of_clinic} # a clinic can accommodate between 20 and 100 people\n",
    "\n",
    "# C2 = {j:random.randint(100,300) for j in range(len(G)) if j >= number_of_clinic and j < number_of_clinic + number_of_hospitals}# an hospital can accommodate between 100 and 300 people\n",
    "\n",
    "# C = {}\n",
    "# for i in range(len(G)):\n",
    "#     if i >= 0 and i < number_of_clinic:\n",
    "#         C[i] = random.randint(50,200)\n",
    "#         # a clinic can accommodate between 20 and 100 people\n",
    "#     elif i >= number_of_clinic and i < number_of_clinic + number_of_hospitals:\n",
    "#         C[i] = random.randint(200,400)\n",
    "#         # an hospital can accommodate between 100 and 300 people\n",
    "#     else:\n",
    "#         C[i] = random.randint(0,50)\n",
    "#         # population in node i\n",
    "\n",
    "C = {}\n",
    "for i in range(len(G)):\n",
    "    if i >= 0 and i < number_of_clinic:\n",
    "        if i % 2 == 0:\n",
    "            C[i] = 50\n",
    "        else :\n",
    "            C[i] = 100\n",
    "        # a clinic can accommodate between 20 and 100 people\n",
    "    elif i >= number_of_clinic and i < number_of_clinic + number_of_hospitals:\n",
    "        if i % 2 == 0:\n",
    "            C[i] = 200\n",
    "        else :\n",
    "            C[i] = 400\n",
    "        # an hospital can accommodate between 100 and 300 people\n",
    "    else:\n",
    "        C[i] = random.randint(0,50)\n",
    "        # population in node i"
   ]
  },
  {
   "cell_type": "code",
   "execution_count": 816,
   "metadata": {},
   "outputs": [],
   "source": [
    "#Changing the size of the network\n",
    "\n",
    "for i in range(len(pos.values())) :\n",
    "    pos[i] = pos[i]*area_size"
   ]
  },
  {
   "cell_type": "code",
   "execution_count": 817,
   "metadata": {},
   "outputs": [],
   "source": [
    "#Assinging the pos values to the x and y attribute of each node\n",
    "\n",
    "for i in range(len(G)):\n",
    "    G.nodes[i][\"x\"] = pos[i][0]\n",
    "    G.nodes[i][\"y\"] = pos[i][1]"
   ]
  },
  {
   "cell_type": "code",
   "execution_count": 818,
   "metadata": {},
   "outputs": [
    {
     "data": {
      "text/plain": [
       "NodeDataView({0: {'x': 7.544596, 'y': 3.130778}, 1: {'x': 9.436456, 'y': 1.313803}, 2: {'x': 1.187547, 'y': 3.9685485}, 3: {'x': 5.666172, 'y': 3.590689}, 4: {'x': 5.8614864, 'y': 9.765576}, 5: {'x': 9.254028, 'y': 9.3396435}, 6: {'x': 4.4666944, 'y': 5.461565}, 7: {'x': 1.6103584, 'y': 7.36733}, 8: {'x': 2.9595675, 'y': 5.863471}, 9: {'x': 7.6332655, 'y': 1.7914698}, 10: {'x': 4.9897604, 'y': 0.6766976}, 11: {'x': 7.306732, 'y': 2.880978}, 12: {'x': 9.665514, 'y': 9.10261}, 13: {'x': 6.006053, 'y': 8.355342}, 14: {'x': 7.209213, 'y': 7.4909263}, 15: {'x': 4.8904324, 'y': 6.4511943}, 16: {'x': 7.7358065, 'y': 1.2740076}, 17: {'x': 2.1882937, 'y': 1.8887522}, 18: {'x': 1.7577659, 'y': 8.689312}, 19: {'x': 1.9626048, 'y': 0.3358335}, 20: {'x': 0.3671783, 'y': 5.075143}, 21: {'x': 9.961489, 'y': 5.2313256}, 22: {'x': 1.5242351, 'y': 2.609212}, 23: {'x': 3.7501538, 'y': 6.1537886}, 24: {'x': 5.5994053, 'y': 4.8472147}})"
      ]
     },
     "execution_count": 818,
     "metadata": {},
     "output_type": "execute_result"
    }
   ],
   "source": [
    "G.nodes(data=True)"
   ]
  },
  {
   "cell_type": "code",
   "execution_count": 819,
   "metadata": {},
   "outputs": [],
   "source": [
    "#Assining what type of location a node is and its color\n",
    "#For recipint points, we give the variable w which is the demand size at organ recipient point\n",
    "\n",
    "\n",
    "for i in range(len(G)):\n",
    "    if i >= 0 and i < number_of_clinic:\n",
    "        G.nodes[i]['color'] = \"blue\"\n",
    "        G.nodes[i]['location_type'] = \"clinic\"\n",
    "        G.nodes[i]['capacity'] = C[i]\n",
    "    elif i >= number_of_clinic and i < number_of_clinic + number_of_hospitals:\n",
    "        G.nodes[i]['color'] = \"red\"\n",
    "        G.nodes[i]['location_type'] = \"hospital\"\n",
    "        G.nodes[i]['capacity'] = C[i]\n",
    "    else:\n",
    "        G.nodes[i]['color'] = \"green\"\n",
    "        G.nodes[i]['location_type'] = \"demand point\"\n",
    "        G.nodes[i]['capacity'] = C[i]"
   ]
  },
  {
   "cell_type": "code",
   "execution_count": 820,
   "metadata": {},
   "outputs": [
    {
     "data": {
      "text/plain": [
       "NodeDataView({0: {'x': 7.544596, 'y': 3.130778, 'color': 'blue', 'location_type': 'clinic', 'capacity': 50}, 1: {'x': 9.436456, 'y': 1.313803, 'color': 'blue', 'location_type': 'clinic', 'capacity': 100}, 2: {'x': 1.187547, 'y': 3.9685485, 'color': 'blue', 'location_type': 'clinic', 'capacity': 50}, 3: {'x': 5.666172, 'y': 3.590689, 'color': 'blue', 'location_type': 'clinic', 'capacity': 100}, 4: {'x': 5.8614864, 'y': 9.765576, 'color': 'blue', 'location_type': 'clinic', 'capacity': 50}, 5: {'x': 9.254028, 'y': 9.3396435, 'color': 'blue', 'location_type': 'clinic', 'capacity': 100}, 6: {'x': 4.4666944, 'y': 5.461565, 'color': 'blue', 'location_type': 'clinic', 'capacity': 50}, 7: {'x': 1.6103584, 'y': 7.36733, 'color': 'blue', 'location_type': 'clinic', 'capacity': 100}, 8: {'x': 2.9595675, 'y': 5.863471, 'color': 'blue', 'location_type': 'clinic', 'capacity': 50}, 9: {'x': 7.6332655, 'y': 1.7914698, 'color': 'blue', 'location_type': 'clinic', 'capacity': 100}, 10: {'x': 4.9897604, 'y': 0.6766976, 'color': 'red', 'location_type': 'hospital', 'capacity': 200}, 11: {'x': 7.306732, 'y': 2.880978, 'color': 'red', 'location_type': 'hospital', 'capacity': 400}, 12: {'x': 9.665514, 'y': 9.10261, 'color': 'red', 'location_type': 'hospital', 'capacity': 200}, 13: {'x': 6.006053, 'y': 8.355342, 'color': 'red', 'location_type': 'hospital', 'capacity': 400}, 14: {'x': 7.209213, 'y': 7.4909263, 'color': 'red', 'location_type': 'hospital', 'capacity': 200}, 15: {'x': 4.8904324, 'y': 6.4511943, 'color': 'red', 'location_type': 'hospital', 'capacity': 400}, 16: {'x': 7.7358065, 'y': 1.2740076, 'color': 'red', 'location_type': 'hospital', 'capacity': 200}, 17: {'x': 2.1882937, 'y': 1.8887522, 'color': 'red', 'location_type': 'hospital', 'capacity': 400}, 18: {'x': 1.7577659, 'y': 8.689312, 'color': 'red', 'location_type': 'hospital', 'capacity': 200}, 19: {'x': 1.9626048, 'y': 0.3358335, 'color': 'red', 'location_type': 'hospital', 'capacity': 400}, 20: {'x': 0.3671783, 'y': 5.075143, 'color': 'green', 'location_type': 'demand point', 'capacity': 39}, 21: {'x': 9.961489, 'y': 5.2313256, 'color': 'green', 'location_type': 'demand point', 'capacity': 27}, 22: {'x': 1.5242351, 'y': 2.609212, 'color': 'green', 'location_type': 'demand point', 'capacity': 9}, 23: {'x': 3.7501538, 'y': 6.1537886, 'color': 'green', 'location_type': 'demand point', 'capacity': 36}, 24: {'x': 5.5994053, 'y': 4.8472147, 'color': 'green', 'location_type': 'demand point', 'capacity': 47}})"
      ]
     },
     "execution_count": 820,
     "metadata": {},
     "output_type": "execute_result"
    }
   ],
   "source": [
    "G.nodes(data=True)"
   ]
  },
  {
   "cell_type": "code",
   "execution_count": 821,
   "metadata": {},
   "outputs": [],
   "source": [
    "#Creating the edges that are only useful, e.g the ones between demand point and clinic and clinic and hospital location\n",
    "#Adding the cost (e.g distance) and naming it a or t accordingly to the pdf.\n",
    "\n",
    "index_of_clinic = list(K)\n",
    "index_of_hospitals = list(J)\n",
    "index_of_demand_points = list(I)\n",
    "\n",
    "\n",
    "for source in index_of_demand_points:\n",
    "    for target in index_of_clinic:\n",
    "        distance = np.sqrt((G.nodes[source][\"x\"]-G.nodes[target][\"x\"])**2 + (G.nodes[source][\"y\"]-G.nodes[target][\"y\"])**2)\n",
    "        G.add_edge(source,target,a=distance, dist=distance)\n",
    "        \n",
    "for source in index_of_clinic:\n",
    "    for target in index_of_hospitals:\n",
    "        distance = np.sqrt((G.nodes[source][\"x\"]-G.nodes[target][\"x\"])**2 + (G.nodes[source][\"y\"]-G.nodes[target][\"y\"])**2)\n",
    "        G.add_edge(source,target,t=distance, dist=distance)"
   ]
  },
  {
   "cell_type": "code",
   "execution_count": 822,
   "metadata": {},
   "outputs": [
    {
     "name": "stdout",
     "output_type": "stream",
     "text": [
      "[0, 1, 2, 3, 4, 5, 6, 7, 8, 9]\n",
      "[10, 11, 12, 13, 14, 15, 16, 17, 18, 19]\n",
      "[20, 21, 22, 23, 24]\n"
     ]
    }
   ],
   "source": [
    "print(index_of_clinic)\n",
    "print(index_of_hospitals)\n",
    "print(index_of_demand_points)"
   ]
  },
  {
   "cell_type": "code",
   "execution_count": 823,
   "metadata": {},
   "outputs": [
    {
     "data": {
      "text/plain": [
       "EdgeDataView([(0, 20, {'a': 7.436119959577324, 'dist': 7.436119959577324}), (0, 21, {'a': 3.2021351491080576, 'dist': 3.2021351491080576}), (0, 22, {'a': 6.042911316536211, 'dist': 6.042911316536211}), (0, 23, {'a': 4.85143130212712, 'dist': 4.85143130212712}), (0, 24, {'a': 2.59420938801088, 'dist': 2.59420938801088}), (0, 10, {'t': 3.5425552144812706, 'dist': 3.5425552144812706}), (0, 11, {'t': 0.3449337823904691, 'dist': 0.3449337823904691}), (0, 12, {'t': 6.337275568968042, 'dist': 6.337275568968042}), (0, 13, {'t': 5.446391470442178, 'dist': 5.446391470442178}), (0, 14, {'t': 4.373028283204808, 'dist': 4.373028283204808}), (0, 15, {'t': 4.250852796485984, 'dist': 4.250852796485984}), (0, 16, {'t': 1.866589969527397, 'dist': 1.866589969527397}), (0, 17, {'t': 5.4984181482051575, 'dist': 5.4984181482051575}), (0, 18, {'t': 8.024007908445263, 'dist': 8.024007908445263}), (0, 19, {'t': 6.242622894677251, 'dist': 6.242622894677251}), (1, 20, {'a': 9.81832353378511, 'dist': 9.81832353378511}), (1, 21, {'a': 3.9525489888096588, 'dist': 3.9525489888096588}), (1, 22, {'a': 8.017563051065876, 'dist': 8.017563051065876}), (1, 23, {'a': 7.467228103087683, 'dist': 7.467228103087683}), (1, 24, {'a': 5.216124480536146, 'dist': 5.216124480536146}), (1, 10, {'t': 4.492104468894786, 'dist': 4.492104468894786}), (1, 11, {'t': 2.64419370417757, 'dist': 2.64419370417757}), (1, 12, {'t': 7.792174334076628, 'dist': 7.792174334076628}), (1, 13, {'t': 7.8326839117798315, 'dist': 7.8326839117798315}), (1, 14, {'t': 6.566388700213403, 'dist': 6.566388700213403}), (1, 15, {'t': 6.859964700029299, 'dist': 6.859964700029299}), (1, 16, {'t': 1.7011148063293065, 'dist': 1.7011148063293065}), (1, 17, {'t': 7.2709299916255965, 'dist': 7.2709299916255965}), (1, 18, {'t': 10.647084874541463, 'dist': 10.647084874541463}), (1, 19, {'t': 7.537564334581117, 'dist': 7.537564334581117}), (2, 20, {'a': 1.3775179549034609, 'dist': 1.3775179549034609}), (2, 21, {'a': 8.864347922338078, 'dist': 8.864347922338078}), (2, 22, {'a': 1.400412421218746, 'dist': 1.400412421218746}), (2, 23, {'a': 3.3678223914634304, 'dist': 3.3678223914634304}), (2, 24, {'a': 4.498505325847894, 'dist': 4.498505325847894}), (2, 10, {'t': 5.0292256127823585, 'dist': 5.0292256127823585}), (2, 11, {'t': 6.215081655212698, 'dist': 6.215081655212698}), (2, 12, {'t': 9.911332393325786, 'dist': 9.911332393325786}), (2, 13, {'t': 6.516283942275023, 'dist': 6.516283942275023}), (2, 14, {'t': 6.9762168216867435, 'dist': 6.9762168216867435}), (2, 15, {'t': 4.458126302239445, 'dist': 4.458126302239445}), (2, 16, {'t': 7.080978508492832, 'dist': 7.080978508492832}), (2, 17, {'t': 2.308039583782069, 'dist': 2.308039583782069}), (2, 18, {'t': 4.755076746931288, 'dist': 4.755076746931288}), (2, 19, {'t': 3.7144761080532196, 'dist': 3.7144761080532196}), (3, 20, {'a': 5.502993410014328, 'dist': 5.502993410014328}), (3, 21, {'a': 4.597981540238018, 'dist': 4.597981540238018}), (3, 22, {'a': 4.25663451877967, 'dist': 4.25663451877967}), (3, 23, {'a': 3.2000946237843255, 'dist': 3.2000946237843255}), (3, 24, {'a': 1.2582983629573232, 'dist': 1.2582983629573232}), (3, 10, {'t': 2.991467678165391, 'dist': 2.991467678165391}), (3, 11, {'t': 1.7874918398603052, 'dist': 1.7874918398603052}), (3, 12, {'t': 6.809993280307762, 'dist': 6.809993280307762}), (3, 13, {'t': 4.776760327653013, 'dist': 4.776760327653013}), (3, 14, {'t': 4.1943802796576275, 'dist': 4.1943802796576275}), (3, 15, {'t': 2.96382571175801, 'dist': 2.96382571175801}), (3, 16, {'t': 3.1065091895777077, 'dist': 3.1065091895777077}), (3, 17, {'t': 3.8719796355575964, 'dist': 3.8719796355575964}), (3, 18, {'t': 6.424297532241637, 'dist': 6.424297532241637}), (3, 19, {'t': 4.930567323893053, 'dist': 4.930567323893053}), (4, 20, {'a': 7.224097644739102, 'dist': 7.224097644739102}), (4, 21, {'a': 6.113055578626591, 'dist': 6.113055578626591}), (4, 22, {'a': 8.368112084867798, 'dist': 8.368112084867798}), (4, 23, {'a': 4.1836272137170125, 'dist': 4.1836272137170125}), (4, 24, {'a': 4.925339377477728, 'dist': 4.925339377477728}), (4, 10, {'t': 9.130587114844882, 'dist': 9.130587114844882}), (4, 11, {'t': 7.034659081433343, 'dist': 7.034659081433343}), (4, 12, {'t': 3.8613664084061767, 'dist': 3.8613664084061767}), (4, 13, {'t': 1.4176250177437026, 'dist': 1.4176250177437026}), (4, 14, {'t': 2.6439363389596986, 'dist': 2.6439363389596986}), (4, 15, {'t': 3.45370447030473, 'dist': 3.45370447030473}), (4, 16, {'t': 8.695965287189942, 'dist': 8.695965287189942}), (4, 17, {'t': 8.691185603731583, 'dist': 8.691185603731583}), (4, 18, {'t': 4.242507314649762, 'dist': 4.242507314649762}), (4, 19, {'t': 10.203985879439472, 'dist': 10.203985879439472}), (5, 20, {'a': 9.857082468431535, 'dist': 9.857082468431535}), (5, 21, {'a': 4.16878588988056, 'dist': 4.16878588988056}), (5, 22, {'a': 10.24931265361101, 'dist': 10.24931265361101}), (5, 23, {'a': 6.359426790143938, 'dist': 6.359426790143938}), (5, 24, {'a': 5.791216266296436, 'dist': 5.791216266296436}), (5, 10, {'t': 9.65559992583886, 'dist': 9.65559992583886}), (5, 11, {'t': 6.7458372824056605, 'dist': 6.7458372824056605}), (5, 12, {'t': 0.4748741954007599, 'dist': 0.4748741954007599}), (5, 13, {'t': 3.393846408639052, 'dist': 3.393846408639052}), (5, 14, {'t': 2.7566330779334267, 'dist': 2.7566330779334267}), (5, 15, {'t': 5.232982749751524, 'dist': 5.232982749751524}), (5, 16, {'t': 8.207281921718916, 'dist': 8.207281921718916}), (5, 17, {'t': 10.26841726970328, 'dist': 10.26841726970328}), (5, 18, {'t': 7.524419132403537, 'dist': 7.524419132403537}), (5, 19, {'t': 11.585916201663414, 'dist': 11.585916201663414}), (6, 20, {'a': 4.117687800246699, 'dist': 4.117687800246699}), (6, 21, {'a': 5.49961592587139, 'dist': 5.49961592587139}), (6, 22, {'a': 4.098046336659834, 'dist': 4.098046336659834}), (6, 23, {'a': 0.9962950553412352, 'dist': 0.9962950553412352}), (6, 24, {'a': 1.2885885199059632, 'dist': 1.2885885199059632}), (6, 10, {'t': 4.813372314437522, 'dist': 4.813372314437522}), (6, 11, {'t': 3.8373485163380336, 'dist': 3.8373485163380336}), (6, 12, {'t': 6.347041162774647, 'dist': 6.347041162774647}), (6, 13, {'t': 3.277738497545771, 'dist': 3.277738497545771}), (6, 14, {'t': 3.4117025641676375, 'dist': 3.4117025641676375}), (6, 15, {'t': 1.076531459994931, 'dist': 1.076531459994931}), (6, 16, {'t': 5.312506890656115, 'dist': 5.312506890656115}), (6, 17, {'t': 4.237463963052754, 'dist': 4.237463963052754}), (6, 18, {'t': 4.213863374541735, 'dist': 4.213863374541735}), (6, 19, {'t': 5.704698745623431, 'dist': 5.704698745623431}), (7, 20, {'a': 2.607607874435812, 'dist': 2.607607874435812}), (7, 21, {'a': 8.619970730114645, 'dist': 8.619970730114645}), (7, 22, {'a': 4.75889751567425, 'dist': 4.75889751567425}), (7, 23, {'a': 2.4599607580564737, 'dist': 2.4599607580564737}), (7, 24, {'a': 4.718419001830817, 'dist': 4.718419001830817}), (7, 10, {'t': 7.495660085441247, 'dist': 7.495660085441247}), (7, 11, {'t': 7.250933045429803, 'dist': 7.250933045429803}), (7, 12, {'t': 8.239947170601393, 'dist': 8.239947170601393}), (7, 13, {'t': 4.50536342294947, 'dist': 4.50536342294947}), (7, 14, {'t': 5.600218584887967, 'dist': 5.600218584887967}), (7, 15, {'t': 3.405611694225741, 'dist': 3.405611694225741}), (7, 16, {'t': 8.640005680788395, 'dist': 8.640005680788395}), (7, 17, {'t': 5.508976486217571, 'dist': 5.508976486217571}), (7, 18, {'t': 1.3301748541300842, 'dist': 1.3301748541300842}), (7, 19, {'t': 7.040313977894856, 'dist': 7.040313977894856}), (8, 20, {'a': 2.709602151937756, 'dist': 2.709602151937756}), (8, 21, {'a': 7.030398849318288, 'dist': 7.030398849318288}), (8, 22, {'a': 3.5567374798313263, 'dist': 3.5567374798313263}), (8, 23, {'a': 0.8422059506972926, 'dist': 0.8422059506972926}), (8, 24, {'a': 2.8286958543546503, 'dist': 2.8286958543546503}), (8, 10, {'t': 5.5699461652479085, 'dist': 5.5699461652479085}), (8, 11, {'t': 5.271916574472588, 'dist': 5.271916574472588}), (8, 12, {'t': 7.447263700195797, 'dist': 7.447263700195797}), (8, 13, {'t': 3.93579647874779, 'dist': 3.93579647874779}), (8, 14, {'t': 4.55061480989792, 'dist': 4.55061480989792}), (8, 15, {'t': 2.0183303849452328, 'dist': 2.0183303849452328}), (8, 16, {'t': 6.623868279222057, 'dist': 6.623868279222057}), (8, 17, {'t': 4.0488582298568465, 'dist': 4.0488582298568465}), (8, 18, {'t': 3.0707823594583106, 'dist': 3.0707823594583106}), (8, 19, {'t': 5.616823917935326, 'dist': 5.616823917935326}), (9, 20, {'a': 7.973614599422625, 'dist': 7.973614599422625}), (9, 21, {'a': 4.153700930795118, 'dist': 4.153700930795118}), (9, 22, {'a': 6.163517884523313, 'dist': 6.163517884523313}), (9, 23, {'a': 5.840238315938631, 'dist': 5.840238315938631}), (9, 24, {'a': 3.6707171166894264, 'dist': 3.6707171166894264}), (9, 10, {'t': 2.868943403777168, 'dist': 2.868943403777168}), (9, 11, {'t': 1.1373883824285433, 'dist': 1.1373883824285433}), (9, 12, {'t': 7.588333343807775, 'dist': 7.588333343807775}), (9, 13, {'t': 6.762561693657548, 'dist': 6.762561693657548}), (9, 14, {'t': 5.715209694400667, 'dist': 5.715209694400667}), (9, 15, {'t': 5.407047583613834, 'dist': 5.407047583613834}), (9, 16, {'t': 0.5275242500282022, 'dist': 0.5275242500282022}), (9, 17, {'t': 5.445841015377014, 'dist': 5.445841015377014}), (9, 18, {'t': 9.061000325429012, 'dist': 9.061000325429012}), (9, 19, {'t': 5.854508757869064, 'dist': 5.854508757869064})])"
      ]
     },
     "execution_count": 823,
     "metadata": {},
     "output_type": "execute_result"
    }
   ],
   "source": [
    "G.edges(data=True)"
   ]
  },
  {
   "cell_type": "code",
   "execution_count": 824,
   "metadata": {},
   "outputs": [
    {
     "data": {
      "image/png": "[encoded data removed]",
      "text/plain": [
       "<Figure size 1000x1000 with 1 Axes>"
      ]
     },
     "metadata": {},
     "output_type": "display_data"
    }
   ],
   "source": [
    "DrawInitG(G,(10,10), withedges=False)"
   ]
  },
  {
   "attachments": {},
   "cell_type": "markdown",
   "metadata": {},
   "source": [
    "## Optimizing the model"
   ]
  },
  {
   "cell_type": "code",
   "execution_count": 825,
   "metadata": {},
   "outputs": [],
   "source": [
    "#Creating the model\n",
    "pcf = gb.Model('Primary care facility')"
   ]
  },
  {
   "cell_type": "code",
   "execution_count": 826,
   "metadata": {},
   "outputs": [],
   "source": [
    "# je crois que c'est bon maintenant\n",
    "# Variable decision x1, x1[k] = 1 if clinic k is established\n",
    "x1 = pcf.addVars(index_of_clinic,vtype=gb.GRB.BINARY, name='x1')\n",
    "# Variable decision x2, x2[j] = 1 if hospital j is established\n",
    "x2 = pcf.addVars(index_of_hospitals,vtype=gb.GRB.BINARY, name='x2')\n",
    "# Variable decision u, u[i][k] = number of patient who go to node i to clinic k\n",
    "u = pcf.addVars([(i,k) for i in index_of_demand_points for k in index_of_clinic],\n",
    "                lb = 0, \n",
    "                obj=[G.edges[(i,k)]['dist'] for i in index_of_demand_points for k in index_of_clinic], \n",
    "                vtype=gb.GRB.INTEGER, name='u')\n",
    "# Variable decision v, v[k][j] = number of patient who go to clinic k to hospital j\n",
    "v = pcf.addVars([(k,j) for k in index_of_clinic for j in index_of_hospitals],\n",
    "                lb = 0, \n",
    "                obj=[G[k][j]['dist'] for k in index_of_clinic for j in index_of_hospitals], \n",
    "                vtype=gb.GRB.INTEGER, name='v')\n",
    "pcf.update()\n",
    "pcf.write('pcf.lp')\n"
   ]
  },
  {
   "cell_type": "code",
   "execution_count": 827,
   "metadata": {},
   "outputs": [
    {
     "data": {
      "text/plain": [
       "5.46"
      ]
     },
     "execution_count": 827,
     "metadata": {},
     "output_type": "execute_result"
    }
   ],
   "source": [
    "0.78 * 7"
   ]
  },
  {
   "cell_type": "code",
   "execution_count": 828,
   "metadata": {},
   "outputs": [
    {
     "data": {
      "text/plain": [
       "5"
      ]
     },
     "execution_count": 828,
     "metadata": {},
     "output_type": "execute_result"
    }
   ],
   "source": [
    "round(0.78 * 7)"
   ]
  },
  {
   "cell_type": "code",
   "execution_count": 829,
   "metadata": {},
   "outputs": [
    {
     "data": {
      "text/plain": [
       "<gurobi.LinExpr: 0.22 u[20,0] + 0.22 u[21,0] + 0.22 u[22,0] + 0.22 u[23,0] + 0.22 u[24,0]>"
      ]
     },
     "execution_count": 829,
     "metadata": {},
     "output_type": "execute_result"
    }
   ],
   "source": [
    "theta[0]*u.sum('*',0)"
   ]
  },
  {
   "attachments": {},
   "cell_type": "markdown",
   "metadata": {},
   "source": [
    "### Constraints"
   ]
  },
  {
   "cell_type": "code",
   "execution_count": 830,
   "metadata": {},
   "outputs": [],
   "source": [
    "# verifier les range\n",
    "pcf.addConstrs((u.sum(i, '*') == C[i] for i in index_of_demand_points), name='29')\n",
    "pcf.addConstrs((v.sum(k, '*') >= theta[k]*u.sum('*',k) for k in index_of_clinic), name='30')\n",
    "# the constraint 30 is the main problem to unfeasible\n",
    "\n",
    "pcf.addConstrs((u.sum('*', k) <= C[k]*x1[k] for k in index_of_clinic), name='31')\n",
    "pcf.addConstrs((v.sum('*', j) <= C[j]*x2[j] for j in index_of_hospitals), name='32')\n",
    "\n",
    "pcf.addConstr(x1.sum('*') == p , name='33')\n",
    "pcf.addConstr(x2.sum('*') == q , name='34')\n",
    "\n",
    "pcf.update()\n",
    "pcf.write('pcf.lp')\n",
    "\n",
    "# Domain constraints\n",
    "# pcf.addConstrs((u[i,k] >= 0 for i in range(number_of_clinic + number_of_hospitals, number_of_clinic + number_of_hospitals + number_of_demand_points) for k in range(number_of_clinic, number_of_clinic + number_of_hospitals)), name='35')\n",
    "# pcf.addConstrs((v[k,j] >= 0 for k in range(number_of_clinic, number_of_clinic + number_of_hospitals) for j in range(0, number_of_clinic)), name='36')\n",
    "# useless before be can define it \n"
   ]
  },
  {
   "cell_type": "code",
   "execution_count": 831,
   "metadata": {},
   "outputs": [
    {
     "name": "stdout",
     "output_type": "stream",
     "text": [
      "750\n",
      "3000\n",
      "158\n"
     ]
    }
   ],
   "source": [
    "totalcapacityclinic = 0\n",
    "for k in index_of_clinic:\n",
    "    totalcapacityclinic = totalcapacityclinic + C[k]\n",
    "totalcapacityhospital = 0\n",
    "for k in index_of_hospitals:\n",
    "    totalcapacityhospital = totalcapacityhospital + C[k]\n",
    "totaldemand = 0\n",
    "for k in index_of_demand_points:\n",
    "    totaldemand = totaldemand + C[k]\n",
    "print(totalcapacityclinic)\n",
    "print(totalcapacityhospital)\n",
    "print(totaldemand)"
   ]
  },
  {
   "cell_type": "code",
   "execution_count": 832,
   "metadata": {},
   "outputs": [
    {
     "name": "stdout",
     "output_type": "stream",
     "text": [
      "Gurobi Optimizer version 10.0.1 build v10.0.1rc0 (linux64)\n",
      "\n",
      "CPU model: Intel(R) Core(TM) i5-1035G1 CPU @ 1.00GHz, instruction set [SSE2|AVX|AVX2|AVX512]\n",
      "Thread count: 4 physical cores, 8 logical processors, using up to 8 threads\n",
      "\n",
      "Optimize a model with 37 rows, 170 columns and 385 nonzeros\n",
      "Model fingerprint: 0x0a7cb15e\n",
      "Variable types: 0 continuous, 170 integer (20 binary)\n",
      "Coefficient statistics:\n",
      "  Matrix range     [3e-02, 4e+02]\n",
      "  Objective range  [3e-01, 1e+01]\n",
      "  Bounds range     [1e+00, 1e+00]\n",
      "  RHS range        [5e+00, 5e+01]\n",
      "Found heuristic solution: objective 947.8656632\n",
      "Presolve removed 1 rows and 10 columns\n",
      "Presolve time: 0.00s\n",
      "Presolved: 36 rows, 160 columns, 365 nonzeros\n",
      "Variable types: 0 continuous, 160 integer (20 binary)\n",
      "Found heuristic solution: objective 938.5228644\n",
      "\n",
      "Root relaxation: objective 3.004194e+02, 21 iterations, 0.00 seconds (0.00 work units)\n",
      "\n",
      "    Nodes    |    Current Node    |     Objective Bounds      |     Work\n",
      " Expl Unexpl |  Obj  Depth IntInf | Incumbent    BestBd   Gap | It/Node Time\n",
      "\n",
      "     0     0  300.41936    0    5  938.52286  300.41936  68.0%     -    0s\n",
      "H    0     0                     302.5599962  300.41936  0.71%     -    0s\n",
      "     0     0  301.37597    0    2  302.56000  301.37597  0.39%     -    0s\n",
      "     0     0  301.37597    0    2  302.56000  301.37597  0.39%     -    0s\n",
      "H    0     0                     302.5003987  301.37597  0.37%     -    0s\n",
      "H    0     0                     301.9417783  301.37597  0.19%     -    0s\n",
      "     0     0  301.94178    0    1  301.94178  301.94178  0.00%     -    0s\n",
      "\n",
      "Cutting planes:\n",
      "  MIR: 3\n",
      "\n",
      "Explored 1 nodes (37 simplex iterations) in 0.03 seconds (0.00 work units)\n",
      "Thread count was 8 (of 8 available processors)\n",
      "\n",
      "Solution count 5: 301.942 302.5 302.56 ... 947.866\n",
      "\n",
      "Optimal solution found (tolerance 1.00e-04)\n",
      "Best objective 3.019417782839e+02, best bound 3.019417782839e+02, gap 0.0000%\n"
     ]
    }
   ],
   "source": [
    "pcf.optimize()"
   ]
  },
  {
   "cell_type": "code",
   "execution_count": 833,
   "metadata": {},
   "outputs": [
    {
     "name": "stdout",
     "output_type": "stream",
     "text": [
      "Obj: 301.942\n"
     ]
    }
   ],
   "source": [
    "print('Obj: %g' % pcf.objVal)\n"
   ]
  },
  {
   "cell_type": "code",
   "execution_count": 834,
   "metadata": {},
   "outputs": [
    {
     "name": "stdout",
     "output_type": "stream",
     "text": [
      "[<gurobi.Var x1[0] (value 1.0)>, <gurobi.Var x1[1] (value -0.0)>, <gurobi.Var x1[2] (value 1.0)>, <gurobi.Var x1[3] (value 1.0)>, <gurobi.Var x1[4] (value 0.0)>, <gurobi.Var x1[5] (value -0.0)>, <gurobi.Var x1[6] (value 1.0)>, <gurobi.Var x1[7] (value 0.0)>, <gurobi.Var x1[8] (value 1.0)>, <gurobi.Var x1[9] (value -0.0)>, <gurobi.Var x2[10] (value 0.0)>, <gurobi.Var x2[11] (value 1.0)>, <gurobi.Var x2[12] (value 1.0)>, <gurobi.Var x2[13] (value 0.0)>, <gurobi.Var x2[14] (value 0.0)>, <gurobi.Var x2[15] (value 1.0)>, <gurobi.Var x2[16] (value 1.0)>, <gurobi.Var x2[17] (value 0.0)>, <gurobi.Var x2[18] (value 1.0)>, <gurobi.Var x2[19] (value 0.0)>, <gurobi.Var u[20,0] (value 0.0)>, <gurobi.Var u[20,1] (value 0.0)>, <gurobi.Var u[20,2] (value 39.0)>, <gurobi.Var u[20,3] (value 0.0)>, <gurobi.Var u[20,4] (value 0.0)>, <gurobi.Var u[20,5] (value 0.0)>, <gurobi.Var u[20,6] (value 0.0)>, <gurobi.Var u[20,7] (value 0.0)>, <gurobi.Var u[20,8] (value 0.0)>, <gurobi.Var u[20,9] (value 0.0)>, <gurobi.Var u[21,0] (value 27.0)>, <gurobi.Var u[21,1] (value -0.0)>, <gurobi.Var u[21,2] (value 0.0)>, <gurobi.Var u[21,3] (value 0.0)>, <gurobi.Var u[21,4] (value 0.0)>, <gurobi.Var u[21,5] (value -0.0)>, <gurobi.Var u[21,6] (value 0.0)>, <gurobi.Var u[21,7] (value 0.0)>, <gurobi.Var u[21,8] (value 0.0)>, <gurobi.Var u[21,9] (value -0.0)>, <gurobi.Var u[22,0] (value 0.0)>, <gurobi.Var u[22,1] (value 0.0)>, <gurobi.Var u[22,2] (value 9.0)>, <gurobi.Var u[22,3] (value 0.0)>, <gurobi.Var u[22,4] (value 0.0)>, <gurobi.Var u[22,5] (value 0.0)>, <gurobi.Var u[22,6] (value 0.0)>, <gurobi.Var u[22,7] (value 0.0)>, <gurobi.Var u[22,8] (value 0.0)>, <gurobi.Var u[22,9] (value 0.0)>, <gurobi.Var u[23,0] (value 0.0)>, <gurobi.Var u[23,1] (value 0.0)>, <gurobi.Var u[23,2] (value -0.0)>, <gurobi.Var u[23,3] (value 0.0)>, <gurobi.Var u[23,4] (value 0.0)>, <gurobi.Var u[23,5] (value 0.0)>, <gurobi.Var u[23,6] (value 5.0)>, <gurobi.Var u[23,7] (value -0.0)>, <gurobi.Var u[23,8] (value 31.0)>, <gurobi.Var u[23,9] (value 0.0)>, <gurobi.Var u[24,0] (value 2.0)>, <gurobi.Var u[24,1] (value 0.0)>, <gurobi.Var u[24,2] (value 0.0)>, <gurobi.Var u[24,3] (value -0.0)>, <gurobi.Var u[24,4] (value 0.0)>, <gurobi.Var u[24,5] (value 0.0)>, <gurobi.Var u[24,6] (value 45.0)>, <gurobi.Var u[24,7] (value 0.0)>, <gurobi.Var u[24,8] (value -0.0)>, <gurobi.Var u[24,9] (value -0.0)>, <gurobi.Var v[0,10] (value 0.0)>, <gurobi.Var v[0,11] (value 7.0)>, <gurobi.Var v[0,12] (value 0.0)>, <gurobi.Var v[0,13] (value 0.0)>, <gurobi.Var v[0,14] (value 0.0)>, <gurobi.Var v[0,15] (value 0.0)>, <gurobi.Var v[0,16] (value -0.0)>, <gurobi.Var v[0,17] (value 0.0)>, <gurobi.Var v[0,18] (value 0.0)>, <gurobi.Var v[0,19] (value 0.0)>, <gurobi.Var v[1,10] (value 0.0)>, <gurobi.Var v[1,11] (value 0.0)>, <gurobi.Var v[1,12] (value 0.0)>, <gurobi.Var v[1,13] (value 0.0)>, <gurobi.Var v[1,14] (value 0.0)>, <gurobi.Var v[1,15] (value 0.0)>, <gurobi.Var v[1,16] (value -0.0)>, <gurobi.Var v[1,17] (value 0.0)>, <gurobi.Var v[1,18] (value 0.0)>, <gurobi.Var v[1,19] (value 0.0)>, <gurobi.Var v[2,10] (value -0.0)>, <gurobi.Var v[2,11] (value -0.0)>, <gurobi.Var v[2,12] (value -0.0)>, <gurobi.Var v[2,13] (value -0.0)>, <gurobi.Var v[2,14] (value -0.0)>, <gurobi.Var v[2,15] (value -0.0)>, <gurobi.Var v[2,16] (value -0.0)>, <gurobi.Var v[2,17] (value -0.0)>, <gurobi.Var v[2,18] (value -0.0)>, <gurobi.Var v[2,19] (value -0.0)>, <gurobi.Var v[3,10] (value -0.0)>, <gurobi.Var v[3,11] (value -0.0)>, <gurobi.Var v[3,12] (value 0.0)>, <gurobi.Var v[3,13] (value 0.0)>, <gurobi.Var v[3,14] (value 0.0)>, <gurobi.Var v[3,15] (value -0.0)>, <gurobi.Var v[3,16] (value -0.0)>, <gurobi.Var v[3,17] (value 0.0)>, <gurobi.Var v[3,18] (value 0.0)>, <gurobi.Var v[3,19] (value 0.0)>, <gurobi.Var v[4,10] (value 0.0)>, <gurobi.Var v[4,11] (value 0.0)>, <gurobi.Var v[4,12] (value 0.0)>, <gurobi.Var v[4,13] (value 0.0)>, <gurobi.Var v[4,14] (value 0.0)>, <gurobi.Var v[4,15] (value 0.0)>, <gurobi.Var v[4,16] (value 0.0)>, <gurobi.Var v[4,17] (value 0.0)>, <gurobi.Var v[4,18] (value 0.0)>, <gurobi.Var v[4,19] (value 0.0)>, <gurobi.Var v[5,10] (value 0.0)>, <gurobi.Var v[5,11] (value 0.0)>, <gurobi.Var v[5,12] (value -0.0)>, <gurobi.Var v[5,13] (value 0.0)>, <gurobi.Var v[5,14] (value 0.0)>, <gurobi.Var v[5,15] (value 0.0)>, <gurobi.Var v[5,16] (value 0.0)>, <gurobi.Var v[5,17] (value 0.0)>, <gurobi.Var v[5,18] (value 0.0)>, <gurobi.Var v[5,19] (value 0.0)>, <gurobi.Var v[6,10] (value 0.0)>, <gurobi.Var v[6,11] (value 0.0)>, <gurobi.Var v[6,12] (value 0.0)>, <gurobi.Var v[6,13] (value 0.0)>, <gurobi.Var v[6,14] (value 0.0)>, <gurobi.Var v[6,15] (value 15.0)>, <gurobi.Var v[6,16] (value 0.0)>, <gurobi.Var v[6,17] (value 0.0)>, <gurobi.Var v[6,18] (value 0.0)>, <gurobi.Var v[6,19] (value 0.0)>, <gurobi.Var v[7,10] (value 0.0)>, <gurobi.Var v[7,11] (value 0.0)>, <gurobi.Var v[7,12] (value 0.0)>, <gurobi.Var v[7,13] (value 0.0)>, <gurobi.Var v[7,14] (value 0.0)>, <gurobi.Var v[7,15] (value 0.0)>, <gurobi.Var v[7,16] (value 0.0)>, <gurobi.Var v[7,17] (value 0.0)>, <gurobi.Var v[7,18] (value -0.0)>, <gurobi.Var v[7,19] (value 0.0)>, <gurobi.Var v[8,10] (value 0.0)>, <gurobi.Var v[8,11] (value 0.0)>, <gurobi.Var v[8,12] (value 0.0)>, <gurobi.Var v[8,13] (value -0.0)>, <gurobi.Var v[8,14] (value 0.0)>, <gurobi.Var v[8,15] (value 18.0)>, <gurobi.Var v[8,16] (value 0.0)>, <gurobi.Var v[8,17] (value -0.0)>, <gurobi.Var v[8,18] (value -0.0)>, <gurobi.Var v[8,19] (value 0.0)>, <gurobi.Var v[9,10] (value 0.0)>, <gurobi.Var v[9,11] (value -0.0)>, <gurobi.Var v[9,12] (value 0.0)>, <gurobi.Var v[9,13] (value 0.0)>, <gurobi.Var v[9,14] (value 0.0)>, <gurobi.Var v[9,15] (value 0.0)>, <gurobi.Var v[9,16] (value -0.0)>, <gurobi.Var v[9,17] (value 0.0)>, <gurobi.Var v[9,18] (value 0.0)>, <gurobi.Var v[9,19] (value 0.0)>]\n"
     ]
    }
   ],
   "source": [
    "print(pcf.getVars())"
   ]
  },
  {
   "cell_type": "code",
   "execution_count": 835,
   "metadata": {},
   "outputs": [
    {
     "name": "stdout",
     "output_type": "stream",
     "text": [
      "\n",
      "x1[0]=1 x1[2]=1 x1[3]=1 x1[6]=1 x1[8]=1 x2[11]=1 x2[12]=1 x2[15]=1 x2[16]=1 x2[18]=1 u[20,2]=39 u[21,0]=27 u[22,2]=9 u[23,6]=5 u[23,8]=31 u[24,0]=2 u[24,6]=45 v[0,11]=7 v[6,15]=15 v[8,15]=18 "
     ]
    }
   ],
   "source": [
    "\n",
    "print ()\n",
    "\n",
    "for y in pcf.getVars():\n",
    "    if y.x > 1E-3:\n",
    "        print ('%s=%g' % (y.varName, y.x), end = ' ')"
   ]
  },
  {
   "cell_type": "code",
   "execution_count": 836,
   "metadata": {},
   "outputs": [
    {
     "data": {
      "text/plain": [
       "{(20, 0): <gurobi.Var u[20,0] (value 0.0)>,\n",
       " (20, 1): <gurobi.Var u[20,1] (value 0.0)>,\n",
       " (20, 2): <gurobi.Var u[20,2] (value 39.0)>,\n",
       " (20, 3): <gurobi.Var u[20,3] (value 0.0)>,\n",
       " (20, 4): <gurobi.Var u[20,4] (value 0.0)>,\n",
       " (20, 5): <gurobi.Var u[20,5] (value 0.0)>,\n",
       " (20, 6): <gurobi.Var u[20,6] (value 0.0)>,\n",
       " (20, 7): <gurobi.Var u[20,7] (value 0.0)>,\n",
       " (20, 8): <gurobi.Var u[20,8] (value 0.0)>,\n",
       " (20, 9): <gurobi.Var u[20,9] (value 0.0)>,\n",
       " (21, 0): <gurobi.Var u[21,0] (value 27.0)>,\n",
       " (21, 1): <gurobi.Var u[21,1] (value -0.0)>,\n",
       " (21, 2): <gurobi.Var u[21,2] (value 0.0)>,\n",
       " (21, 3): <gurobi.Var u[21,3] (value 0.0)>,\n",
       " (21, 4): <gurobi.Var u[21,4] (value 0.0)>,\n",
       " (21, 5): <gurobi.Var u[21,5] (value -0.0)>,\n",
       " (21, 6): <gurobi.Var u[21,6] (value 0.0)>,\n",
       " (21, 7): <gurobi.Var u[21,7] (value 0.0)>,\n",
       " (21, 8): <gurobi.Var u[21,8] (value 0.0)>,\n",
       " (21, 9): <gurobi.Var u[21,9] (value -0.0)>,\n",
       " (22, 0): <gurobi.Var u[22,0] (value 0.0)>,\n",
       " (22, 1): <gurobi.Var u[22,1] (value 0.0)>,\n",
       " (22, 2): <gurobi.Var u[22,2] (value 9.0)>,\n",
       " (22, 3): <gurobi.Var u[22,3] (value 0.0)>,\n",
       " (22, 4): <gurobi.Var u[22,4] (value 0.0)>,\n",
       " (22, 5): <gurobi.Var u[22,5] (value 0.0)>,\n",
       " (22, 6): <gurobi.Var u[22,6] (value 0.0)>,\n",
       " (22, 7): <gurobi.Var u[22,7] (value 0.0)>,\n",
       " (22, 8): <gurobi.Var u[22,8] (value 0.0)>,\n",
       " (22, 9): <gurobi.Var u[22,9] (value 0.0)>,\n",
       " (23, 0): <gurobi.Var u[23,0] (value 0.0)>,\n",
       " (23, 1): <gurobi.Var u[23,1] (value 0.0)>,\n",
       " (23, 2): <gurobi.Var u[23,2] (value -0.0)>,\n",
       " (23, 3): <gurobi.Var u[23,3] (value 0.0)>,\n",
       " (23, 4): <gurobi.Var u[23,4] (value 0.0)>,\n",
       " (23, 5): <gurobi.Var u[23,5] (value 0.0)>,\n",
       " (23, 6): <gurobi.Var u[23,6] (value 5.0)>,\n",
       " (23, 7): <gurobi.Var u[23,7] (value -0.0)>,\n",
       " (23, 8): <gurobi.Var u[23,8] (value 31.0)>,\n",
       " (23, 9): <gurobi.Var u[23,9] (value 0.0)>,\n",
       " (24, 0): <gurobi.Var u[24,0] (value 2.0)>,\n",
       " (24, 1): <gurobi.Var u[24,1] (value 0.0)>,\n",
       " (24, 2): <gurobi.Var u[24,2] (value 0.0)>,\n",
       " (24, 3): <gurobi.Var u[24,3] (value -0.0)>,\n",
       " (24, 4): <gurobi.Var u[24,4] (value 0.0)>,\n",
       " (24, 5): <gurobi.Var u[24,5] (value 0.0)>,\n",
       " (24, 6): <gurobi.Var u[24,6] (value 45.0)>,\n",
       " (24, 7): <gurobi.Var u[24,7] (value 0.0)>,\n",
       " (24, 8): <gurobi.Var u[24,8] (value -0.0)>,\n",
       " (24, 9): <gurobi.Var u[24,9] (value -0.0)>}"
      ]
     },
     "execution_count": 836,
     "metadata": {},
     "output_type": "execute_result"
    }
   ],
   "source": [
    "u"
   ]
  },
  {
   "cell_type": "code",
   "execution_count": 837,
   "metadata": {},
   "outputs": [
    {
     "data": {
      "text/plain": [
       "{(0, 10): <gurobi.Var v[0,10] (value 0.0)>,\n",
       " (0, 11): <gurobi.Var v[0,11] (value 7.0)>,\n",
       " (0, 12): <gurobi.Var v[0,12] (value 0.0)>,\n",
       " (0, 13): <gurobi.Var v[0,13] (value 0.0)>,\n",
       " (0, 14): <gurobi.Var v[0,14] (value 0.0)>,\n",
       " (0, 15): <gurobi.Var v[0,15] (value 0.0)>,\n",
       " (0, 16): <gurobi.Var v[0,16] (value -0.0)>,\n",
       " (0, 17): <gurobi.Var v[0,17] (value 0.0)>,\n",
       " (0, 18): <gurobi.Var v[0,18] (value 0.0)>,\n",
       " (0, 19): <gurobi.Var v[0,19] (value 0.0)>,\n",
       " (1, 10): <gurobi.Var v[1,10] (value 0.0)>,\n",
       " (1, 11): <gurobi.Var v[1,11] (value 0.0)>,\n",
       " (1, 12): <gurobi.Var v[1,12] (value 0.0)>,\n",
       " (1, 13): <gurobi.Var v[1,13] (value 0.0)>,\n",
       " (1, 14): <gurobi.Var v[1,14] (value 0.0)>,\n",
       " (1, 15): <gurobi.Var v[1,15] (value 0.0)>,\n",
       " (1, 16): <gurobi.Var v[1,16] (value -0.0)>,\n",
       " (1, 17): <gurobi.Var v[1,17] (value 0.0)>,\n",
       " (1, 18): <gurobi.Var v[1,18] (value 0.0)>,\n",
       " (1, 19): <gurobi.Var v[1,19] (value 0.0)>,\n",
       " (2, 10): <gurobi.Var v[2,10] (value -0.0)>,\n",
       " (2, 11): <gurobi.Var v[2,11] (value -0.0)>,\n",
       " (2, 12): <gurobi.Var v[2,12] (value -0.0)>,\n",
       " (2, 13): <gurobi.Var v[2,13] (value -0.0)>,\n",
       " (2, 14): <gurobi.Var v[2,14] (value -0.0)>,\n",
       " (2, 15): <gurobi.Var v[2,15] (value -0.0)>,\n",
       " (2, 16): <gurobi.Var v[2,16] (value -0.0)>,\n",
       " (2, 17): <gurobi.Var v[2,17] (value -0.0)>,\n",
       " (2, 18): <gurobi.Var v[2,18] (value -0.0)>,\n",
       " (2, 19): <gurobi.Var v[2,19] (value -0.0)>,\n",
       " (3, 10): <gurobi.Var v[3,10] (value -0.0)>,\n",
       " (3, 11): <gurobi.Var v[3,11] (value -0.0)>,\n",
       " (3, 12): <gurobi.Var v[3,12] (value 0.0)>,\n",
       " (3, 13): <gurobi.Var v[3,13] (value 0.0)>,\n",
       " (3, 14): <gurobi.Var v[3,14] (value 0.0)>,\n",
       " (3, 15): <gurobi.Var v[3,15] (value -0.0)>,\n",
       " (3, 16): <gurobi.Var v[3,16] (value -0.0)>,\n",
       " (3, 17): <gurobi.Var v[3,17] (value 0.0)>,\n",
       " (3, 18): <gurobi.Var v[3,18] (value 0.0)>,\n",
       " (3, 19): <gurobi.Var v[3,19] (value 0.0)>,\n",
       " (4, 10): <gurobi.Var v[4,10] (value 0.0)>,\n",
       " (4, 11): <gurobi.Var v[4,11] (value 0.0)>,\n",
       " (4, 12): <gurobi.Var v[4,12] (value 0.0)>,\n",
       " (4, 13): <gurobi.Var v[4,13] (value 0.0)>,\n",
       " (4, 14): <gurobi.Var v[4,14] (value 0.0)>,\n",
       " (4, 15): <gurobi.Var v[4,15] (value 0.0)>,\n",
       " (4, 16): <gurobi.Var v[4,16] (value 0.0)>,\n",
       " (4, 17): <gurobi.Var v[4,17] (value 0.0)>,\n",
       " (4, 18): <gurobi.Var v[4,18] (value 0.0)>,\n",
       " (4, 19): <gurobi.Var v[4,19] (value 0.0)>,\n",
       " (5, 10): <gurobi.Var v[5,10] (value 0.0)>,\n",
       " (5, 11): <gurobi.Var v[5,11] (value 0.0)>,\n",
       " (5, 12): <gurobi.Var v[5,12] (value -0.0)>,\n",
       " (5, 13): <gurobi.Var v[5,13] (value 0.0)>,\n",
       " (5, 14): <gurobi.Var v[5,14] (value 0.0)>,\n",
       " (5, 15): <gurobi.Var v[5,15] (value 0.0)>,\n",
       " (5, 16): <gurobi.Var v[5,16] (value 0.0)>,\n",
       " (5, 17): <gurobi.Var v[5,17] (value 0.0)>,\n",
       " (5, 18): <gurobi.Var v[5,18] (value 0.0)>,\n",
       " (5, 19): <gurobi.Var v[5,19] (value 0.0)>,\n",
       " (6, 10): <gurobi.Var v[6,10] (value 0.0)>,\n",
       " (6, 11): <gurobi.Var v[6,11] (value 0.0)>,\n",
       " (6, 12): <gurobi.Var v[6,12] (value 0.0)>,\n",
       " (6, 13): <gurobi.Var v[6,13] (value 0.0)>,\n",
       " (6, 14): <gurobi.Var v[6,14] (value 0.0)>,\n",
       " (6, 15): <gurobi.Var v[6,15] (value 15.0)>,\n",
       " (6, 16): <gurobi.Var v[6,16] (value 0.0)>,\n",
       " (6, 17): <gurobi.Var v[6,17] (value 0.0)>,\n",
       " (6, 18): <gurobi.Var v[6,18] (value 0.0)>,\n",
       " (6, 19): <gurobi.Var v[6,19] (value 0.0)>,\n",
       " (7, 10): <gurobi.Var v[7,10] (value 0.0)>,\n",
       " (7, 11): <gurobi.Var v[7,11] (value 0.0)>,\n",
       " (7, 12): <gurobi.Var v[7,12] (value 0.0)>,\n",
       " (7, 13): <gurobi.Var v[7,13] (value 0.0)>,\n",
       " (7, 14): <gurobi.Var v[7,14] (value 0.0)>,\n",
       " (7, 15): <gurobi.Var v[7,15] (value 0.0)>,\n",
       " (7, 16): <gurobi.Var v[7,16] (value 0.0)>,\n",
       " (7, 17): <gurobi.Var v[7,17] (value 0.0)>,\n",
       " (7, 18): <gurobi.Var v[7,18] (value -0.0)>,\n",
       " (7, 19): <gurobi.Var v[7,19] (value 0.0)>,\n",
       " (8, 10): <gurobi.Var v[8,10] (value 0.0)>,\n",
       " (8, 11): <gurobi.Var v[8,11] (value 0.0)>,\n",
       " (8, 12): <gurobi.Var v[8,12] (value 0.0)>,\n",
       " (8, 13): <gurobi.Var v[8,13] (value -0.0)>,\n",
       " (8, 14): <gurobi.Var v[8,14] (value 0.0)>,\n",
       " (8, 15): <gurobi.Var v[8,15] (value 18.0)>,\n",
       " (8, 16): <gurobi.Var v[8,16] (value 0.0)>,\n",
       " (8, 17): <gurobi.Var v[8,17] (value -0.0)>,\n",
       " (8, 18): <gurobi.Var v[8,18] (value -0.0)>,\n",
       " (8, 19): <gurobi.Var v[8,19] (value 0.0)>,\n",
       " (9, 10): <gurobi.Var v[9,10] (value 0.0)>,\n",
       " (9, 11): <gurobi.Var v[9,11] (value -0.0)>,\n",
       " (9, 12): <gurobi.Var v[9,12] (value 0.0)>,\n",
       " (9, 13): <gurobi.Var v[9,13] (value 0.0)>,\n",
       " (9, 14): <gurobi.Var v[9,14] (value 0.0)>,\n",
       " (9, 15): <gurobi.Var v[9,15] (value 0.0)>,\n",
       " (9, 16): <gurobi.Var v[9,16] (value -0.0)>,\n",
       " (9, 17): <gurobi.Var v[9,17] (value 0.0)>,\n",
       " (9, 18): <gurobi.Var v[9,18] (value 0.0)>,\n",
       " (9, 19): <gurobi.Var v[9,19] (value 0.0)>}"
      ]
     },
     "execution_count": 837,
     "metadata": {},
     "output_type": "execute_result"
    }
   ],
   "source": [
    "v"
   ]
  },
  {
   "cell_type": "code",
   "execution_count": 838,
   "metadata": {},
   "outputs": [],
   "source": [
    "#Creating xfinal, the dict of all active edges\n",
    "\n",
    "xfinal = dict(u)\n",
    "xfinal.update(v)\n",
    "\n",
    "#Removing the key from the dict if the value is 0, e.G the edge isn't active\n",
    "for xtuple in list(xfinal) :\n",
    "    # print(xfinal[xtuple])\n",
    "    # print(xfinal[xtuple].x)\n",
    "    if xfinal[xtuple].x == 0 :\n",
    "        xfinal.pop(xtuple, None)"
   ]
  },
  {
   "cell_type": "code",
   "execution_count": 839,
   "metadata": {},
   "outputs": [
    {
     "data": {
      "text/plain": [
       "{(20, 2): <gurobi.Var u[20,2] (value 39.0)>,\n",
       " (21, 0): <gurobi.Var u[21,0] (value 27.0)>,\n",
       " (22, 2): <gurobi.Var u[22,2] (value 9.0)>,\n",
       " (23, 6): <gurobi.Var u[23,6] (value 5.0)>,\n",
       " (23, 8): <gurobi.Var u[23,8] (value 31.0)>,\n",
       " (24, 0): <gurobi.Var u[24,0] (value 2.0)>,\n",
       " (24, 6): <gurobi.Var u[24,6] (value 45.0)>,\n",
       " (0, 11): <gurobi.Var v[0,11] (value 7.0)>,\n",
       " (6, 15): <gurobi.Var v[6,15] (value 15.0)>,\n",
       " (8, 15): <gurobi.Var v[8,15] (value 18.0)>}"
      ]
     },
     "execution_count": 839,
     "metadata": {},
     "output_type": "execute_result"
    }
   ],
   "source": [
    "xfinal"
   ]
  },
  {
   "cell_type": "code",
   "execution_count": 840,
   "metadata": {},
   "outputs": [
    {
     "data": {
      "image/png": "[encoded data removed]",
      "text/plain": [
       "<Figure size 1000x1000 with 1 Axes>"
      ]
     },
     "metadata": {},
     "output_type": "display_data"
    }
   ],
   "source": [
    "DrawSol(G, (10,10), xfinal)"
   ]
  }
 ],
 "metadata": {
  "kernelspec": {
   "display_name": "data-analytics-and-data-driven-decision-YAtyBmlX-py3.11",
   "language": "python",
   "name": "python3"
  },
  "language_info": {
   "codemirror_mode": {
    "name": "ipython",
    "version": 3
   },
   "file_extension": ".py",
   "mimetype": "text/x-python",
   "name": "python",
   "nbconvert_exporter": "python",
   "pygments_lexer": "ipython3",
   "version": "3.11.2"
  },
  "orig_nbformat": 4
 },
 "nbformat": 4,
 "nbformat_minor": 2
}
